{
 "cells": [
  {
   "cell_type": "code",
   "execution_count": 3,
   "metadata": {},
   "outputs": [],
   "source": [
    "import joblib\n",
    "import numpy as np\n",
    "from sklearn.preprocessing import StandardScaler\n"
   ]
  },
  {
   "cell_type": "code",
   "execution_count": 9,
   "metadata": {},
   "outputs": [
    {
     "name": "stdout",
     "output_type": "stream",
     "text": [
      "Predicted Calories: 106.36\n"
     ]
    },
    {
     "name": "stderr",
     "output_type": "stream",
     "text": [
      "C:\\Users\\justi\\AppData\\Local\\Packages\\PythonSoftwareFoundation.Python.3.11_qbz5n2kfra8p0\\LocalCache\\local-packages\\Python311\\site-packages\\sklearn\\utils\\validation.py:2739: UserWarning: X does not have valid feature names, but StandardScaler was fitted with feature names\n",
      "  warnings.warn(\n"
     ]
    }
   ],
   "source": [
    "# Load the trained model\n",
    "loaded_model = joblib.load('calories_predictor.pkl')\n",
    "scaler = joblib.load('scaler.pkl')\n",
    "\n",
    "# Example input for prediction\n",
    "gender = 0 # male:0, female:1\n",
    "age = 45\n",
    "height = 190 # cm\n",
    "heart_rate = 105\n",
    "body_temp = 40 # celius\n",
    "sample_input = np.array([[gender, age, height, heart_rate, body_temp]])  # Genger, Age, Height, heart rate, body temp\n",
    "\n",
    "# Normalize the input\n",
    "sample_input = scaler.transform(sample_input)\n",
    "\n",
    "# Make a prediction\n",
    "predicted_calories = loaded_model.predict(sample_input)\n",
    "print(f\"Predicted Calories: {predicted_calories[0]:.2f}\")\n"
   ]
  }
 ],
 "metadata": {
  "kernelspec": {
   "display_name": "Python 3",
   "language": "python",
   "name": "python3"
  },
  "language_info": {
   "codemirror_mode": {
    "name": "ipython",
    "version": 3
   },
   "file_extension": ".py",
   "mimetype": "text/x-python",
   "name": "python",
   "nbconvert_exporter": "python",
   "pygments_lexer": "ipython3",
   "version": "3.11.9"
  }
 },
 "nbformat": 4,
 "nbformat_minor": 2
}
